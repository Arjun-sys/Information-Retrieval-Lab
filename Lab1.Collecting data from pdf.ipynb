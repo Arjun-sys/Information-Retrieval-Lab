{
 "cells": [
  {
   "cell_type": "markdown",
   "metadata": {},
   "source": [
    "pip install PyPDF2"
   ]
  },
  {
   "cell_type": "raw",
   "metadata": {},
   "source": [
    "from PyPDF2 import PdfFileReader"
   ]
  },
  {
   "cell_type": "code",
   "execution_count": 53,
   "metadata": {},
   "outputs": [
    {
     "name": "stdout",
     "output_type": "stream",
     "text": [
      " \n",
      "\n"
     ]
    }
   ],
   "source": [
    "FILE_PATH = \"E:/6th mob/front page 1.pdf\"\n",
    "with open(FILE_PATH,'rb') as f:\n",
    "    reader=PyPDF2.PdfFileReader(f)\n",
    "    page=reader.getPage(1)\n",
    "    print(page.extractText())"
   ]
  },
  {
   "cell_type": "code",
   "execution_count": 29,
   "metadata": {},
   "outputs": [],
   "source": [
    "import PyPDF2\n"
   ]
  },
  {
   "cell_type": "code",
   "execution_count": 27,
   "metadata": {},
   "outputs": [
    {
     "ename": "ModuleNotFoundError",
     "evalue": "No module named 'pypdf'",
     "output_type": "error",
     "traceback": [
      "\u001b[1;31m---------------------------------------------------------------------------\u001b[0m",
      "\u001b[1;31mModuleNotFoundError\u001b[0m                       Traceback (most recent call last)",
      "\u001b[1;32m<ipython-input-27-34209578a4c3>\u001b[0m in \u001b[0;36m<module>\u001b[1;34m\u001b[0m\n\u001b[1;32m----> 1\u001b[1;33m \u001b[1;32mfrom\u001b[0m \u001b[0mpypdf\u001b[0m \u001b[1;32mimport\u001b[0m \u001b[0mPdfFileReader\u001b[0m\u001b[1;33m\u001b[0m\u001b[1;33m\u001b[0m\u001b[0m\n\u001b[0m\u001b[0;32m      2\u001b[0m \u001b[0mFILE_PATH\u001b[0m \u001b[1;33m=\u001b[0m \u001b[1;34m\"E:/6th mob/LINQ.pdf\"\u001b[0m\u001b[1;33m\u001b[0m\u001b[1;33m\u001b[0m\u001b[0m\n\u001b[0;32m      3\u001b[0m \u001b[1;32mwith\u001b[0m \u001b[0mopen\u001b[0m\u001b[1;33m(\u001b[0m\u001b[0mFILE_PATH\u001b[0m\u001b[1;33m,\u001b[0m\u001b[1;34m'rb'\u001b[0m\u001b[1;33m)\u001b[0m \u001b[1;32mas\u001b[0m \u001b[0mf\u001b[0m\u001b[1;33m:\u001b[0m\u001b[1;33m\u001b[0m\u001b[1;33m\u001b[0m\u001b[0m\n\u001b[0;32m      4\u001b[0m     \u001b[0mreader\u001b[0m\u001b[1;33m=\u001b[0m\u001b[0mpypdf\u001b[0m\u001b[1;33m.\u001b[0m\u001b[0mPdfFileReader\u001b[0m\u001b[1;33m(\u001b[0m\u001b[0mf\u001b[0m\u001b[1;33m)\u001b[0m\u001b[1;33m\u001b[0m\u001b[1;33m\u001b[0m\u001b[0m\n\u001b[0;32m      5\u001b[0m     \u001b[0mpage\u001b[0m\u001b[1;33m=\u001b[0m\u001b[0mreader\u001b[0m\u001b[1;33m.\u001b[0m\u001b[0mgetpage\u001b[0m\u001b[1;33m(\u001b[0m\u001b[1;36m0\u001b[0m\u001b[1;33m)\u001b[0m\u001b[1;33m\u001b[0m\u001b[1;33m\u001b[0m\u001b[0m\n",
      "\u001b[1;31mModuleNotFoundError\u001b[0m: No module named 'pypdf'"
     ]
    }
   ],
   "source": [
    "from pypdf2 import PdfFileReader\n",
    "FILE_PATH = \"E:/6th mob/LINQ.pdf\"\n",
    "with open(FILE_PATH,'rb') as f:\n",
    "    reader=pypdf2.PdfFileReader(f)\n",
    "    page=reader.getpage(0)\n",
    "    print(page.extractText())"
   ]
  },
  {
   "cell_type": "code",
   "execution_count": 33,
   "metadata": {},
   "outputs": [
    {
     "ename": "SyntaxError",
     "evalue": "invalid syntax (<ipython-input-33-b10de0a6cea9>, line 1)",
     "output_type": "error",
     "traceback": [
      "\u001b[1;36m  File \u001b[1;32m\"<ipython-input-33-b10de0a6cea9>\"\u001b[1;36m, line \u001b[1;32m1\u001b[0m\n\u001b[1;33m    pip install_\u001b[0m\n\u001b[1;37m        ^\u001b[0m\n\u001b[1;31mSyntaxError\u001b[0m\u001b[1;31m:\u001b[0m invalid syntax\n"
     ]
    }
   ],
   "source": [
    "pip install_\n",
    "pip3 install_"
   ]
  },
  {
   "cell_type": "code",
   "execution_count": 31,
   "metadata": {},
   "outputs": [
    {
     "ename": "SyntaxError",
     "evalue": "invalid syntax (<ipython-input-31-0b3ddeea1782>, line 1)",
     "output_type": "error",
     "traceback": [
      "\u001b[1;36m  File \u001b[1;32m\"<ipython-input-31-0b3ddeea1782>\"\u001b[1;36m, line \u001b[1;32m1\u001b[0m\n\u001b[1;33m    pip3 install_\u001b[0m\n\u001b[1;37m         ^\u001b[0m\n\u001b[1;31mSyntaxError\u001b[0m\u001b[1;31m:\u001b[0m invalid syntax\n"
     ]
    }
   ],
   "source": [
    "pip3 install_"
   ]
  },
  {
   "cell_type": "code",
   "execution_count": 35,
   "metadata": {},
   "outputs": [
    {
     "name": "stdout",
     "output_type": "stream",
     "text": [
      "Requirement already satisfied: PyPDF2 in c:\\users\\admin\\anaconda3\\lib\\site-packages (1.26.0)\n"
     ]
    }
   ],
   "source": [
    "!pip install PyPDF2"
   ]
  },
  {
   "cell_type": "code",
   "execution_count": 36,
   "metadata": {},
   "outputs": [],
   "source": [
    "import PyPDF2"
   ]
  },
  {
   "cell_type": "code",
   "execution_count": 48,
   "metadata": {},
   "outputs": [
    {
     "name": "stdout",
     "output_type": "stream",
     "text": [
      "UNITED STATES OF AMERICA\n",
      " Before the\n",
      " SECURITIES AND EXCHANGE COMMISSION\n",
      "  ADMINISTRATIVE PROCEEDING\n",
      " File No. \n",
      "3-15211 ____________________________________                                                                :  In the Matter of\n",
      "               :                                                              :   GREGG C. LORENZO, \n",
      "   :  FRANCIS V. LORENZO, AND \n",
      "  : CHARLES VISTA, LLC,\n",
      "   :       :  Respondent\n",
      "s.     : ____________________________________:   PROPOSED \n",
      "AMENDED \n",
      "PLAN OF DISTRIBUTION\n",
      "  1.  Purpose and Background\n",
      ".  This \n",
      "amended \n",
      "proposed \n",
      "plan of \n",
      "distribution (\n",
      "the \n",
      "ﬁPlanﬂ) has been developed pursuant to the Commission™s Order Making Findings \n",
      "\n",
      "and Imposing Remedial Sanctions and a Cease\n",
      "-and\n",
      "-Desist Order Pursuant to Section \n",
      "8A of the \n",
      "Securities\n",
      " Act of \n",
      "1933 and Section\n",
      "s 15(b)\n",
      ", 21B, and 21C\n",
      " of the Securities \n",
      "Exchange Act of 1934 \n",
      "as to Respondents Gregg C. Lorenzo (ﬁLorenzoﬂ) and Charles \n",
      "\n",
      "Vista, LLC (ﬁCharles Vistaﬂ) (collectively ﬁRespondentsﬂ)\n",
      " dated \n",
      "November \n",
      "20, 2013 (the ﬁOrderﬂ) (\n",
      "Securities Act \n",
      "Rel. No. 9480 (Nov\n",
      "ember\n",
      " 20, 2013)).  \n",
      "The Plan\n",
      " provides for the distribution of \n",
      "funds collected from \n",
      "the disgorgement, prejudgment \n",
      "interest, and civil penalties \n",
      "paid pursuant to \n",
      "the Order\n",
      ".  The Plan proposes to pay \n",
      "six \n",
      "customers \n",
      "of Charles Vista \n",
      "each of \n",
      "who\n",
      "m suffered \n",
      "harm\n",
      " by virtue of the fraudulent \n",
      "misrepresentations \n",
      "described in the Order and \n",
      "made by Respondents\n",
      ".  The Order \n",
      "describes and was based \n",
      "solely \n",
      "on misconduct \n",
      "pertaining to \n",
      "six specific customers\n",
      ".   The Plan has been amended from the Proposed \n",
      "Distribution Plan previously \n",
      "noticed on March 30, 2015\n",
      " (Exchange Act Rel. No. 7\n",
      "4607 (March\n",
      " 30, 201\n",
      "5)) in order \n",
      "to re\n",
      "flect re\n",
      "calculat\n",
      "ions of \n",
      "the percentages of the Eligible Customers™\n",
      " (defined below)\n",
      " pooled harm based on public comments and additional infor\n",
      "mation received.\n",
      "  The \n",
      "Plan has also been amended in response to comments requesting a clarification as to \n",
      "\n",
      "customers eligible to receive a distribution pursuant to the Plan.\n",
      " \n",
      " The Order found that Respondents made fraudulent misrepresentations to \n",
      "several cus\n",
      "tomers of Charles Vista\n",
      " to induce them to invest in convertible debentures \n",
      "issued by a start\n",
      "-up waste management company, Waste2Energy Holdings, Inc. \n",
      "(ﬁW2Eﬂ). \n",
      " The Order further found that Charles Vista had a considerable financial \n",
      "\n",
      "interest in the \n",
      "debentur\n",
      "es offering and was the exclusive placement agent for the \n",
      "issuance of 12% W2E debentures.  The \n",
      "debentures \n",
      "were convertible to W2E stock, \n",
      "\n",
      "which is a penny stock.\n",
      "  Additionally, the Order found that W2E\n",
      "™s \n",
      "financial situation \n",
      "was precarious\n",
      " and W2E™s securiti\n",
      "es were extremely speculative because\n",
      ", among \n",
      "other reasons, \n",
      "the company \n",
      "had millions of dollars of debt that was senior to the debt \n",
      "\n",
      "W2E was issuing through the \n",
      "debentures \n",
      "offering.  Finally, the Order found that after \n",
      "\n"
     ]
    }
   ],
   "source": [
    "from PyPDF2 import PdfFileReader\n",
    "FILE_PATH = \"downloads/sample.pdf\"\n",
    "with open(FILE_PATH,'rb') as f:\n",
    "    reader=PyPDF2.PdfFileReader(f)\n",
    "    page=reader.getPage(0)\n",
    "    print(page.extractText())"
   ]
  },
  {
   "cell_type": "code",
   "execution_count": null,
   "metadata": {},
   "outputs": [],
   "source": []
  }
 ],
 "metadata": {
  "kernelspec": {
   "display_name": "Python 3",
   "language": "python",
   "name": "python3"
  },
  "language_info": {
   "codemirror_mode": {
    "name": "ipython",
    "version": 3
   },
   "file_extension": ".py",
   "mimetype": "text/x-python",
   "name": "python",
   "nbconvert_exporter": "python",
   "pygments_lexer": "ipython3",
   "version": "3.8.3"
  }
 },
 "nbformat": 4,
 "nbformat_minor": 4
}
